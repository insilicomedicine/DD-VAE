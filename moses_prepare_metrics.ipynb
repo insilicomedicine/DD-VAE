{
 "cells": [
  {
   "cell_type": "markdown",
   "metadata": {},
   "source": [
    "# Distribution learning on MOSES dataset: calculating metrics\n",
    "\n",
    "You can calculate metrics from checkpoints using this notebook. Note that training the models takes ~30h per model on Titan X (Pascal); computing MOSES metrics for checkpoints takes ~40h per model.\n",
    "\n",
    "To reproduce the models and statistics, run the following bash script:\n",
    "```{bash}\n",
    "for SEED in 1 2 3\n",
    "do\n",
    "    for PROPOSAL in gaussian triweight\n",
    "    do\n",
    "        python train.py --config configs/moses/VAE_$PROPOSAL\\_seed$SEED.ini --device cuda:0\n",
    "        python train.py --config configs/moses/DD-VAE_$PROPOSAL\\_seed$SEED.ini --device cuda:0\n",
    "    done\n",
    "done\n",
    "```\n",
    "\n",
    "This script will save models into `models/moses` folder and tensorboard logs into `logs/moses` folder.\n",
    "\n",
    "The notebook below will create files with all MOSES metrics for each checkpoint. `moses_plots.ipynb` will use logs and MOSES metrics to build final plots."
   ]
  },
  {
   "cell_type": "code",
   "execution_count": 1,
   "metadata": {},
   "outputs": [
    {
     "name": "stderr",
     "output_type": "stream",
     "text": [
      "RDKit WARNING: [11:32:06] Enabling RDKit 2019.09.3 jupyter extensions\n"
     ]
    }
   ],
   "source": [
    "import os\n",
    "import glob\n",
    "import pickle\n",
    "import gc\n",
    "from time import sleep\n",
    "\n",
    "import rdkit\n",
    "import pandas as pd\n",
    "from tqdm.auto import tqdm\n",
    "import numpy as np\n",
    "import torch\n",
    "from moses.metrics import get_all_metrics\n",
    "\n",
    "from dd_vae.vae_rnn import VAE_RNN\n",
    "from dd_vae.utils import prepare_seed\n",
    "\n",
    "rdkit.rdBase.DisableLog('rdApp.*')"
   ]
  },
  {
   "cell_type": "code",
   "execution_count": 2,
   "metadata": {},
   "outputs": [],
   "source": [
    "DEVICE = 'cuda:0'\n",
    "N_JOBS = 32\n",
    "\n",
    "def load_csv(path):\n",
    "    df = pd.read_csv(path, compression='gzip', dtype='str', header=None)\n",
    "    return list(df[0].values)"
   ]
  },
  {
   "cell_type": "code",
   "execution_count": 3,
   "metadata": {},
   "outputs": [],
   "source": [
    "test = load_csv('data/moses/test.csv.gz')\n",
    "test_scaffolds = load_csv('data/moses/test_scaffolds.csv.gz')\n",
    "train = load_csv('data/moses/train.csv.gz')\n",
    "\n",
    "test_stats = np.load('data/moses/test_stats.npz', allow_pickle=True)['stats'].item()\n",
    "test_scaffold_stats = np.load('data/moses/test_scaffolds_stats.npz', allow_pickle=True)['stats'].item()"
   ]
  },
  {
   "cell_type": "code",
   "execution_count": 4,
   "metadata": {},
   "outputs": [],
   "source": [
    "def prepare_metrics(name, checkpoint_id, overwrite=False, device='cpu', n_jobs=1):\n",
    "    path = f'models/moses/{name}/checkpoint_{checkpoint_id}.pt'\n",
    "    output_path = f'metrics/{name}/{checkpoint_id}.pkl'\n",
    "    os.makedirs(f'metrics/{name}/', exist_ok=True)\n",
    "    if os.path.exists(output_path) and not overwrite:\n",
    "        raise ValueError(f\"Metrics file {output_path} already exists\")\n",
    "    model = VAE_RNN.load(path).to(device)\n",
    "    prepare_seed(1)\n",
    "    with torch.no_grad():\n",
    "        smiles = sum([model.sample(100) for _ in tqdm(range(300))], [])\n",
    "    model.to(device)\n",
    "    del model\n",
    "    torch.cuda.empty_cache()\n",
    "    gc.collect()\n",
    "    torch.cuda.empty_cache()\n",
    "    if device == 'cpu':\n",
    "        gpu = -1\n",
    "    else:\n",
    "        gpu = int(device.split(':')[1])\n",
    "\n",
    "    metrics = get_all_metrics(\n",
    "        test=test, gen=smiles,\n",
    "        test_scaffolds=test_scaffolds, gpu=gpu, n_jobs=n_jobs,\n",
    "        ptest=test_stats,\n",
    "        ptest_scaffolds=test_scaffold_stats,\n",
    "        train=train)\n",
    "\n",
    "    with open(output_path, 'wb') as f:\n",
    "        pickle.dump(metrics, f)\n",
    "    torch.cuda.empty_cache()\n",
    "    gc.collect()\n",
    "    torch.cuda.empty_cache()"
   ]
  },
  {
   "cell_type": "code",
   "execution_count": 5,
   "metadata": {},
   "outputs": [],
   "source": [
    "def get_epoch_id(path):\n",
    "    try:\n",
    "        return int(path.split('_')[-1][:-3])\n",
    "    except ValueError:\n",
    "        return None"
   ]
  },
  {
   "cell_type": "code",
   "execution_count": 6,
   "metadata": {
    "scrolled": false
   },
   "outputs": [],
   "source": [
    "checkpoints = glob.glob('models/moses/*/*.pt')\n",
    "checkpoints = [x for x in checkpoints if get_epoch_id(x) is not None]\n",
    "for checkpoint in checkpoints:\n",
    "    try:\n",
    "        epoch_id = int(checkpoint.split('_')[-1][:-3])\n",
    "    except ValueError:\n",
    "        continue\n",
    "    config_id = checkpoint.split('/')[-2]\n",
    "    print(f\"Processing {checkpoint}\")\n",
    "    try:\n",
    "        prepare_metrics(config_id, epoch_id, device=DEVICE, n_jobs=N_JOBS)\n",
    "    except ValueError:\n",
    "        pass"
   ]
  }
 ],
 "metadata": {
  "kernelspec": {
   "display_name": "Python 3",
   "language": "python",
   "name": "python3"
  },
  "language_info": {
   "codemirror_mode": {
    "name": "ipython",
    "version": 3
   },
   "file_extension": ".py",
   "mimetype": "text/x-python",
   "name": "python",
   "nbconvert_exporter": "python",
   "pygments_lexer": "ipython3",
   "version": "3.6.9"
  }
 },
 "nbformat": 4,
 "nbformat_minor": 2
}
